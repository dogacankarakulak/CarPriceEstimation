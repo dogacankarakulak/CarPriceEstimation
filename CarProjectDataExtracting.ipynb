{
 "cells": [
  {
   "cell_type": "markdown",
   "metadata": {},
   "source": [
    "# Veri Çekimi"
   ]
  },
  {
   "cell_type": "markdown",
   "metadata": {},
   "source": [
    "Kütüphaneler tanımlandı."
   ]
  },
  {
   "cell_type": "code",
   "execution_count": 7,
   "metadata": {},
   "outputs": [],
   "source": [
    "from selenium import webdriver\n",
    "import time\n"
   ]
  },
  {
   "cell_type": "markdown",
   "metadata": {},
   "source": [
    "Webdriver çalıştırıldı."
   ]
  },
  {
   "cell_type": "code",
   "execution_count": 8,
   "metadata": {},
   "outputs": [],
   "source": [
    "browser = webdriver.Firefox()\n",
    "url = \"https://www.hepsiburada.com/samsung-evo-plus-64gb-100-mb-s-microsdxc-kart-sd-adaptor-mb-mc64ga-tr-p-HBV000005DA3I\"\n",
    "browser.get(url)"
   ]
  },
  {
   "cell_type": "markdown",
   "metadata": {},
   "source": [
    "İstenen faktörler çekildi."
   ]
  },
  {
   "cell_type": "code",
   "execution_count": 9,
   "metadata": {},
   "outputs": [
    {
     "name": "stdout",
     "output_type": "stream",
     "text": [
      "<selenium.webdriver.firefox.webelement.FirefoxWebElement (session=\"9e86d67f-b676-46eb-bb8c-c19d7d5743bf\", element=\"b583532d-8b51-4fb7-b257-1e0137bfc7eb\")>\n",
      "<selenium.webdriver.firefox.webelement.FirefoxWebElement (session=\"9e86d67f-b676-46eb-bb8c-c19d7d5743bf\", element=\"2806d2dd-4f1b-4d92-8350-0d52ddc2ce0e\")>\n",
      "<selenium.webdriver.firefox.webelement.FirefoxWebElement (session=\"9e86d67f-b676-46eb-bb8c-c19d7d5743bf\", element=\"a5b05aeb-fa7f-412e-9cf2-699b85a24bcc\")>\n",
      "<selenium.webdriver.firefox.webelement.FirefoxWebElement (session=\"9e86d67f-b676-46eb-bb8c-c19d7d5743bf\", element=\"2b0e64e5-cf22-4524-81bc-bd9c3d8f8599\")>\n",
      "<selenium.webdriver.firefox.webelement.FirefoxWebElement (session=\"9e86d67f-b676-46eb-bb8c-c19d7d5743bf\", element=\"b08d843f-dfca-418a-8914-be0ea766fcf1\")>\n",
      "<selenium.webdriver.firefox.webelement.FirefoxWebElement (session=\"9e86d67f-b676-46eb-bb8c-c19d7d5743bf\", element=\"97ef9879-de94-4445-a3ca-6964a958fcd3\")>\n",
      "<selenium.webdriver.firefox.webelement.FirefoxWebElement (session=\"9e86d67f-b676-46eb-bb8c-c19d7d5743bf\", element=\"4272a149-be7b-4422-8c86-394a8945adec\")>\n",
      "<selenium.webdriver.firefox.webelement.FirefoxWebElement (session=\"9e86d67f-b676-46eb-bb8c-c19d7d5743bf\", element=\"bf4a451b-9393-45ec-80f3-a297c7e25ff7\")>\n",
      "<selenium.webdriver.firefox.webelement.FirefoxWebElement (session=\"9e86d67f-b676-46eb-bb8c-c19d7d5743bf\", element=\"6a2eef22-fffa-41ea-a5ff-35c509751293\")>\n",
      "<selenium.webdriver.firefox.webelement.FirefoxWebElement (session=\"9e86d67f-b676-46eb-bb8c-c19d7d5743bf\", element=\"114e6017-1bc5-48a1-931e-3db2924abf04\")>\n"
     ]
    }
   ],
   "source": [
    "time.sleep(1)\n",
    "elements5=[]\n",
    "entries = []\n",
    "a=0\n",
    "BG=[]\n",
    "while a <= 980:\n",
    "    elements7 = []\n",
    "    K = []\n",
    "    elements2 = []\n",
    "    ca = []\n",
    "    R = 0\n",
    "    beşli = 0\n",
    "    newUrl= url + str(a)\n",
    "    browser.get(newUrl)\n",
    "\n",
    "\n",
    "    urlye_git = browser.find_elements_by_class_name(\"classifiedTitle\")\n",
    "    for i in urlye_git:\n",
    "        K.append(i.get_attribute('href'))\n",
    "\n",
    "    for j in K:\n",
    "        browser.get(j)\n",
    "        J = browser.find_elements_by_css_selector(\"div.classifiedInfo\")\n",
    "        for j in J:\n",
    "            j = j.text\n",
    "            j = j.split()\n",
    "\n",
    "\n",
    "\n",
    "            try:\n",
    "                g= j[0]\n",
    "                elements5.append(g)\n",
    "            except (ValueError, IndexError):\n",
    "\n",
    "                elements5.append(\"\")\n",
    "\n",
    "\n",
    "\n",
    "            try:\n",
    "                g = j.index(\"Marka\")\n",
    "                elements5.append(j[g + 1])\n",
    "            except (ValueError, IndexError):\n",
    "\n",
    "                elements5.append(\"\")\n",
    "\n",
    "            try:\n",
    "                g = j.index(\"Seri\")\n",
    "                elements5.append(j[g + 1])\n",
    "            except (ValueError, IndexError):\n",
    "\n",
    "                elements5.append(\"\")\n",
    "\n",
    "            try:\n",
    "                g = j.index(\"Yıl\")\n",
    "                elements5.append(j[g + 1])\n",
    "            except (ValueError, IndexError):\n",
    "\n",
    "                elements5.append(\"\")\n",
    "\n",
    "            try:\n",
    "                g = j.index(\"Yakıt\")\n",
    "                elements5.append(j[g + 1])\n",
    "            except (ValueError, IndexError):\n",
    "\n",
    "                elements5.append(\"\")\n",
    "\n",
    "            try:\n",
    "                g = j.index(\"Vites\")\n",
    "                elements5.append(j[g + 1])\n",
    "            except (ValueError, IndexError):\n",
    "\n",
    "                elements5.append(\"\")\n",
    "\n",
    "            try:\n",
    "                g = j.index(\"KM\")\n",
    "                elements5.append(j[g + 1])\n",
    "            except (ValueError, IndexError):\n",
    "\n",
    "                elements5.append(\"\")\n",
    "\n",
    "            try:\n",
    "                g = j.index(\"Tipi\")\n",
    "                elements5.append(j[g + 1])\n",
    "            except (ValueError, IndexError):\n",
    "\n",
    "                elements5.append(\"\")\n",
    "\n",
    "            try:\n",
    "                g = j.index(\"Gücü\")\n",
    "                elements5.append(j[g + 1])\n",
    "            except (ValueError, IndexError):\n",
    "\n",
    "                elements5.append(\"\")\n",
    "\n",
    "            try:\n",
    "                g = j.index(\"Hacmi\")\n",
    "                elements5.append(j[g + 1])\n",
    "            except (ValueError, IndexError):\n",
    "\n",
    "                elements5.append(\"\")\n",
    "\n",
    "            try:\n",
    "                g = j.index(\"Çekiş\")\n",
    "                elements5.append(j[g + 1])\n",
    "            except (ValueError, IndexError):\n",
    "\n",
    "                elements5.append(\"\")\n",
    "\n",
    "            try:\n",
    "                g = j.index(\"Renk\")\n",
    "                elements5.append(j[g + 1])\n",
    "            except (ValueError, IndexError):\n",
    "\n",
    "                elements5.append(\"\")\n",
    "\n",
    "            try:\n",
    "                g = j.index(\"Garanti\")\n",
    "                elements5.append(j[g + 1])\n",
    "            except (ValueError, IndexError):\n",
    "\n",
    "                elements5.append(\"\")\n",
    "\n",
    "            try:\n",
    "                g = j.index(\"Kimden\")\n",
    "                elements5.append(j[g + 1])\n",
    "            except (ValueError, IndexError):\n",
    "\n",
    "                elements5.append(\"\")\n",
    "\n",
    "            try:\n",
    "                g = j.index(\"Takas\")\n",
    "                elements5.append(j[g + 1])\n",
    "            except (ValueError, IndexError):\n",
    "\n",
    "                elements5.append(\"\")\n",
    "\n",
    "    while beşli <= (len(elements5)-1):\n",
    "        list = elements5[beşli] + \" ,\" + elements5[beşli + 1]+ \", \"+ elements5[beşli+2] + \" ,\" + elements5[beşli + 3] + \" ,\" + elements5[beşli + 4] + \" ,\" + elements5[beşli + 5] + \" ,\" + elements5[beşli + 6] + \" ,\" + elements5[beşli + 7] + \" ,\" + elements5[beşli + 8] + \" ,\" + elements5[beşli + 9] + \" ,\" + elements5[beşli + 10] + \" ,\" + elements5[beşli + 11] + \" ,\" + elements5[beşli + 12] + \" ,\" + elements5[beşli + 13] + \" ,\" + elements5[beşli + 14]\n",
    "        elements7.append(list)\n",
    "        beşli = beşli + 15\n",
    "\n",
    "    a = a + 20"
   ]
  },
  {
   "cell_type": "markdown",
   "metadata": {},
   "source": [
    "Çekilen faktörler dosyaya yazıldı"
   ]
  },
  {
   "cell_type": "code",
   "execution_count": 10,
   "metadata": {},
   "outputs": [
    {
     "ename": "TypeError",
     "evalue": "write() argument must be str, not FirefoxWebElement",
     "output_type": "error",
     "traceback": [
      "\u001b[1;31m---------------------------------------------------------------------------\u001b[0m",
      "\u001b[1;31mTypeError\u001b[0m                                 Traceback (most recent call last)",
      "\u001b[1;32m<ipython-input-10-196a15992ccd>\u001b[0m in \u001b[0;36m<module>\u001b[1;34m\u001b[0m\n\u001b[0;32m      1\u001b[0m \u001b[1;32mwith\u001b[0m \u001b[0mopen\u001b[0m\u001b[1;33m(\u001b[0m\u001b[1;34m\"yorumlar.txt\"\u001b[0m\u001b[1;33m,\u001b[0m\u001b[1;34m\"w\"\u001b[0m\u001b[1;33m,\u001b[0m\u001b[0mencoding\u001b[0m \u001b[1;33m=\u001b[0m \u001b[1;34m\"UTF-8\"\u001b[0m\u001b[1;33m)\u001b[0m \u001b[1;32mas\u001b[0m \u001b[0mfile\u001b[0m\u001b[1;33m:\u001b[0m\u001b[1;33m\u001b[0m\u001b[1;33m\u001b[0m\u001b[0m\n\u001b[0;32m      2\u001b[0m     \u001b[1;32mfor\u001b[0m \u001b[0mi\u001b[0m \u001b[1;32min\u001b[0m \u001b[0mK\u001b[0m\u001b[1;33m:\u001b[0m\u001b[1;33m\u001b[0m\u001b[1;33m\u001b[0m\u001b[0m\n\u001b[1;32m----> 3\u001b[1;33m         \u001b[0mfile\u001b[0m\u001b[1;33m.\u001b[0m\u001b[0mwrite\u001b[0m\u001b[1;33m(\u001b[0m\u001b[0mi\u001b[0m\u001b[1;33m)\u001b[0m\u001b[1;33m\u001b[0m\u001b[1;33m\u001b[0m\u001b[0m\n\u001b[0m\u001b[0;32m      4\u001b[0m         \u001b[0mfile\u001b[0m\u001b[1;33m.\u001b[0m\u001b[0mwrite\u001b[0m\u001b[1;33m(\u001b[0m\u001b[1;34m\"\\n\"\u001b[0m\u001b[1;33m)\u001b[0m\u001b[1;33m\u001b[0m\u001b[1;33m\u001b[0m\u001b[0m\n\u001b[0;32m      5\u001b[0m \u001b[1;33m\u001b[0m\u001b[0m\n",
      "\u001b[1;31mTypeError\u001b[0m: write() argument must be str, not FirefoxWebElement"
     ]
    }
   ],
   "source": [
    "with open(\"yorumlar.txt\",\"w\",encoding = \"UTF-8\") as file:\n",
    "    for i in K:\n",
    "        file.write(i)\n",
    "        file.write(\"\\n\")\n",
    "\n",
    "browser.close()\n"
   ]
  },
  {
   "cell_type": "code",
   "execution_count": null,
   "metadata": {},
   "outputs": [],
   "source": []
  }
 ],
 "metadata": {
  "kernelspec": {
   "display_name": "Python 3",
   "language": "python",
   "name": "python3"
  },
  "language_info": {
   "codemirror_mode": {
    "name": "ipython",
    "version": 3
   },
   "file_extension": ".py",
   "mimetype": "text/x-python",
   "name": "python",
   "nbconvert_exporter": "python",
   "pygments_lexer": "ipython3",
   "version": "3.7.3"
  }
 },
 "nbformat": 4,
 "nbformat_minor": 2
}
