{
 "cells": [
  {
   "cell_type": "code",
   "execution_count": 1,
   "metadata": {},
   "outputs": [],
   "source": [
    "import pandas as pd\n",
    "import numpy as np\n",
    "import numpy as np\n",
    "import matplotlib.pyplot as plt\n",
    "import pandas as pd\n",
    "from sklearn.metrics import r2_score"
   ]
  },
  {
   "cell_type": "code",
   "execution_count": 2,
   "metadata": {},
   "outputs": [],
   "source": [
    "df1=pd.read_csv(\"BMW.csv\")\n",
    "df2 =pd.read_csv(\"Toyota.csv\")\n",
    "df3 =pd.read_csv(\"audi.csv\")\n",
    "df4 =pd.read_csv(\"citroen.csv\")\n",
    "df5 =pd.read_csv(\"fiat.csv\")\n",
    "df6 =pd.read_csv(\"ford.csv\")\n",
    "df7 =pd.read_csv(\"honda.csv\")\n",
    "df8 =pd.read_csv(\"hyundai.csv\")\n",
    "df9 =pd.read_csv(\"kia.csv\")\n",
    "df10 =pd.read_csv(\"mazda.csv\")\n",
    "df11 =pd.read_csv(\"mercedes-benz.csv\")\n",
    "df12=pd.read_csv(\"peugeot.csv\")\n",
    "df13=pd.read_csv(\"renault.csv\")\n",
    "df14=pd.read_csv(\"seat.csv\")\n",
    "df15=pd.read_csv(\"skoda.csv\")\n",
    "\n",
    "df = pd.concat([df1, df2, df3,df4,df5,df6,df7,df8,df9,df10,df11,df12,df13,df14,df15], ignore_index=True)"
   ]
  },
  {
   "cell_type": "code",
   "execution_count": 3,
   "metadata": {},
   "outputs": [
    {
     "data": {
      "text/html": [
       "<div>\n",
       "<style scoped>\n",
       "    .dataframe tbody tr th:only-of-type {\n",
       "        vertical-align: middle;\n",
       "    }\n",
       "\n",
       "    .dataframe tbody tr th {\n",
       "        vertical-align: top;\n",
       "    }\n",
       "\n",
       "    .dataframe thead th {\n",
       "        text-align: right;\n",
       "    }\n",
       "</style>\n",
       "<table border=\"1\" class=\"dataframe\">\n",
       "  <thead>\n",
       "    <tr style=\"text-align: right;\">\n",
       "      <th></th>\n",
       "      <th>Fiyat</th>\n",
       "      <th>Marka</th>\n",
       "      <th>Seri</th>\n",
       "      <th>Yil</th>\n",
       "      <th>Yakit</th>\n",
       "      <th>Vites</th>\n",
       "      <th>Km</th>\n",
       "      <th>KasaTipi</th>\n",
       "      <th>Beygir</th>\n",
       "      <th>CC</th>\n",
       "      <th>Cekis</th>\n",
       "      <th>Renk</th>\n",
       "      <th>Garanti</th>\n",
       "      <th>Kimden</th>\n",
       "      <th>Takas</th>\n",
       "    </tr>\n",
       "  </thead>\n",
       "  <tbody>\n",
       "    <tr>\n",
       "      <th>0</th>\n",
       "      <td>240</td>\n",
       "      <td>BMW</td>\n",
       "      <td>5</td>\n",
       "      <td>2014</td>\n",
       "      <td>Dizel</td>\n",
       "      <td>Yarı</td>\n",
       "      <td>120.000</td>\n",
       "      <td>Sedan</td>\n",
       "      <td>218</td>\n",
       "      <td>1995</td>\n",
       "      <td>4WD</td>\n",
       "      <td>Beyaz</td>\n",
       "      <td>Evet</td>\n",
       "      <td>Galeriden</td>\n",
       "      <td>Evet</td>\n",
       "    </tr>\n",
       "    <tr>\n",
       "      <th>1</th>\n",
       "      <td>274.9</td>\n",
       "      <td>BMW</td>\n",
       "      <td>5</td>\n",
       "      <td>2014</td>\n",
       "      <td>Dizel</td>\n",
       "      <td>Yarı</td>\n",
       "      <td>86.000</td>\n",
       "      <td>Sedan</td>\n",
       "      <td>218</td>\n",
       "      <td>1995</td>\n",
       "      <td>4WD</td>\n",
       "      <td>Beyaz</td>\n",
       "      <td>Evet</td>\n",
       "      <td>Galeriden</td>\n",
       "      <td>Evet</td>\n",
       "    </tr>\n",
       "    <tr>\n",
       "      <th>2</th>\n",
       "      <td>219.75</td>\n",
       "      <td>BMW</td>\n",
       "      <td>5</td>\n",
       "      <td>2016</td>\n",
       "      <td>Benzin</td>\n",
       "      <td>Yarı</td>\n",
       "      <td>59.000</td>\n",
       "      <td>Sedan</td>\n",
       "      <td>170</td>\n",
       "      <td>1592</td>\n",
       "      <td>Arkadan</td>\n",
       "      <td>Beyaz</td>\n",
       "      <td>Evet</td>\n",
       "      <td>Sahibinden</td>\n",
       "      <td>Hayır</td>\n",
       "    </tr>\n",
       "    <tr>\n",
       "      <th>3</th>\n",
       "      <td>162.5</td>\n",
       "      <td>BMW</td>\n",
       "      <td>5</td>\n",
       "      <td>2012</td>\n",
       "      <td>Dizel</td>\n",
       "      <td>Yarı</td>\n",
       "      <td>190.000</td>\n",
       "      <td>Sedan</td>\n",
       "      <td>184</td>\n",
       "      <td>1995</td>\n",
       "      <td>Arkadan</td>\n",
       "      <td>Beyaz</td>\n",
       "      <td>Hayır</td>\n",
       "      <td>Galeriden</td>\n",
       "      <td>Evet</td>\n",
       "    </tr>\n",
       "    <tr>\n",
       "      <th>4</th>\n",
       "      <td>99.95</td>\n",
       "      <td>BMW</td>\n",
       "      <td>3</td>\n",
       "      <td>2011</td>\n",
       "      <td>Dizel</td>\n",
       "      <td>Otomatik</td>\n",
       "      <td>181.499</td>\n",
       "      <td>Sedan</td>\n",
       "      <td>184</td>\n",
       "      <td>1995</td>\n",
       "      <td>Arkadan</td>\n",
       "      <td>Gri</td>\n",
       "      <td>Evet</td>\n",
       "      <td>Galeriden</td>\n",
       "      <td>Evet</td>\n",
       "    </tr>\n",
       "  </tbody>\n",
       "</table>\n",
       "</div>"
      ],
      "text/plain": [
       "    Fiyat Marka Seri    Yil    Yakit      Vites        Km KasaTipi  Beygir  \\\n",
       "0     240   BMW   5   2014    Dizel       Yarı   120.000    Sedan      218   \n",
       "1   274.9   BMW   5   2014    Dizel       Yarı    86.000    Sedan      218   \n",
       "2  219.75   BMW   5   2016   Benzin       Yarı    59.000    Sedan      170   \n",
       "3   162.5   BMW   5   2012    Dizel       Yarı   190.000    Sedan      184   \n",
       "4   99.95   BMW   3   2011    Dizel   Otomatik   181.499    Sedan      184   \n",
       "\n",
       "     CC     Cekis    Renk Garanti       Kimden  Takas  \n",
       "0  1995      4WD   Beyaz    Evet    Galeriden    Evet  \n",
       "1  1995      4WD   Beyaz    Evet    Galeriden    Evet  \n",
       "2  1592  Arkadan   Beyaz    Evet   Sahibinden   Hayır  \n",
       "3  1995  Arkadan   Beyaz   Hayır    Galeriden    Evet  \n",
       "4  1995  Arkadan     Gri    Evet    Galeriden    Evet  "
      ]
     },
     "execution_count": 3,
     "metadata": {},
     "output_type": "execute_result"
    }
   ],
   "source": [
    "df.head()"
   ]
  },
  {
   "cell_type": "code",
   "execution_count": 4,
   "metadata": {},
   "outputs": [
    {
     "name": "stdout",
     "output_type": "stream",
     "text": [
      "Fiyat       2401\n",
      "Marka         15\n",
      "Seri         188\n",
      "Yil           45\n",
      "Yakit          3\n",
      "Vites          3\n",
      "Km          3069\n",
      "KasaTipi       8\n",
      "Beygir       168\n",
      "CC           230\n",
      "Cekis          4\n",
      "Renk          18\n",
      "Garanti        2\n",
      "Kimden         2\n",
      "Takas          3\n",
      "dtype: int64\n",
      "Fiyat        0\n",
      "Marka        0\n",
      "Seri         0\n",
      "Yil          0\n",
      "Yakit        0\n",
      "Vites        0\n",
      "Km           0\n",
      "KasaTipi     0\n",
      "Beygir       0\n",
      "CC           0\n",
      "Cekis        0\n",
      "Renk         0\n",
      "Garanti      0\n",
      "Kimden       0\n",
      "Takas       28\n",
      "dtype: int64\n"
     ]
    }
   ],
   "source": [
    "uniq=df.apply(lambda x: len(x.unique()))\n",
    "nan_descript=df.apply(lambda x: sum(x.isnull()))\n",
    "print(uniq)\n",
    "print(nan_descript)"
   ]
  },
  {
   "cell_type": "code",
   "execution_count": 5,
   "metadata": {},
   "outputs": [],
   "source": [
    "list = []\n",
    "\n",
    "for i in df[\"Fiyat\"]:\n",
    "    if type(i) == str:\n",
    "        try: \n",
    "            i = i.replace(\" \",\"\")\n",
    "            i = i.replace(\".\",\"\")\n",
    "            i = int(i)\n",
    "            i = i/1000\n",
    "        \n",
    "        except AttributeError:\n",
    "            i = i    \n",
    "\n",
    "    list.append(i)\n",
    "list2 = []   \n",
    "for i in list:\n",
    "    i = i * 1000\n",
    "    list2.append(i)\n",
    "\n",
    "df[\"Fiyat\"]= list2\n",
    "\n",
    "list5 = []"
   ]
  },
  {
   "cell_type": "code",
   "execution_count": 6,
   "metadata": {},
   "outputs": [],
   "source": [
    "for i in df[\"Yil\"]:\n",
    "    i = i.replace(\" \",\"\")\n",
    "    \n",
    "    try:\n",
    "        i = i.replace(\"Cumhuriyet\",\"2013\")\n",
    "    except AttributeError:\n",
    "        i = i\n",
    "    \n",
    "    try:\n",
    "        i = i.replace(\"Mh.\",\"2013\")\n",
    "    except AttributeError:\n",
    "        i = i\n",
    "    \n",
    "    try:\n",
    "        i=i.replace(\"OSB\",\"2013\")\n",
    "    except AttributeError:\n",
    "        i = i\n",
    "    i=int(i)\n",
    "    list5.append(i)\n",
    "    \n",
    "df[\"Yil\"] = list5"
   ]
  },
  {
   "cell_type": "code",
   "execution_count": 7,
   "metadata": {},
   "outputs": [],
   "source": [
    "list3 = []\n",
    "  \n",
    "for i in df[\"Km\"]:\n",
    "    try:\n",
    "        i = i.replace(\"Belirtilmemiş \",\"50.000\")\n",
    "    except AttributeError:\n",
    "        i = i\n",
    "    \n",
    "    \n",
    "    \n",
    "    \n",
    "    if type(i) == str:\n",
    "        \n",
    "        try: \n",
    "            i = i.replace(\" \",\"\")\n",
    "            i = i.replace(\".\",\"\")\n",
    "            i = int(i)\n",
    "            i = i/1000\n",
    "        \n",
    "        except AttributeError:\n",
    "            i = i   \n",
    "    \n",
    "    list3.append(i)\n",
    "df[\"Km\"]= list3\n",
    "\n",
    "list4 = []   \n",
    "for i in list3:\n",
    "    i = i * 1000\n",
    "    list4.append(i)\n",
    "\n",
    "df[\"Km\"]= list4"
   ]
  },
  {
   "cell_type": "code",
   "execution_count": 8,
   "metadata": {},
   "outputs": [],
   "source": [
    "df[\"Km\"]= list4\n",
    "\n",
    "k =[]\n",
    "for i in range(0,14991):\n",
    "    if df.iloc[i]['Km'] < 15000 and df.iloc[i]['Yil'] <= 2009:\n",
    "        k.append(i)\n",
    "for i in k:\n",
    "    df.drop(i, inplace = True)"
   ]
  },
  {
   "cell_type": "code",
   "execution_count": 9,
   "metadata": {},
   "outputs": [],
   "source": [
    "df.drop(8139,inplace=True)\n",
    "\n",
    "df[\"Takas\"].fillna(method=\"ffill\",inplace=True)\n",
    "\n",
    "df = df.reset_index()"
   ]
  },
  {
   "cell_type": "code",
   "execution_count": 10,
   "metadata": {},
   "outputs": [],
   "source": [
    "j =[]\n",
    "for i in range(0,14850):\n",
    "    if df.iloc[i][\"CC\"] == \"Belirtilmemiş \":\n",
    "        j.append(i)\n",
    "for i in j:\n",
    "    \n",
    "    df.drop(i, inplace = True)\n",
    "\n",
    "\n",
    "list25 = []\n",
    "for i in df[\"CC\"]:\n",
    "    if type(i) == str:\n",
    "        try: \n",
    "            i = i.replace(\" \",\"\")\n",
    "            \n",
    "            i = int(i)\n",
    "            \n",
    "        \n",
    "        except AttributeError:\n",
    "            i = i  \n",
    "    list25.append(i)    \n",
    "df[\"CC\"]= list25"
   ]
  },
  {
   "cell_type": "code",
   "execution_count": 11,
   "metadata": {},
   "outputs": [],
   "source": [
    "df = df.reset_index()\n",
    "k =[]\n",
    "for i in range(0,14858):\n",
    "    if df.iloc[i]['Km'] > 1000000 or df.iloc[i]['Fiyat'] > 900000 or df.iloc[i]['CC'] > 4000 or df.iloc[i]['Beygir'] > 400 :\n",
    "        k.append(i)\n",
    "for i in k:\n",
    "    df.drop(i, inplace = True)\n",
    "\n",
    "df.drop(\"index\",axis= 1 ,inplace =True)\n",
    "df.drop(\"level_0\",axis= 1 ,inplace =True)\n",
    "\n",
    "export_csv = df.to_csv (r'C:\\\\Users\\\\DKRKLK\\\\Desktop\\\\İTÜ PROJE\\\\arabalarson.csv', index = None, header=True)"
   ]
  },
  {
   "cell_type": "markdown",
   "metadata": {},
   "source": [
    "# Regression Analysis"
   ]
  },
  {
   "cell_type": "code",
   "execution_count": 12,
   "metadata": {},
   "outputs": [
    {
     "name": "stdout",
     "output_type": "stream",
     "text": [
      "                            OLS Regression Results                            \n",
      "==============================================================================\n",
      "Dep. Variable:                      y   R-squared:                       0.868\n",
      "Model:                            OLS   Adj. R-squared:                  0.867\n",
      "Method:                 Least Squares   F-statistic:                     7449.\n",
      "Date:                Fri, 20 Sep 2019   Prob (F-statistic):               0.00\n",
      "Time:                        18:15:47   Log-Likelihood:            -1.7671e+05\n",
      "No. Observations:               14795   AIC:                         3.534e+05\n",
      "Df Residuals:                   14782   BIC:                         3.535e+05\n",
      "Df Model:                          13                                         \n",
      "Covariance Type:            nonrobust                                         \n",
      "==============================================================================\n",
      "                 coef    std err          t      P>|t|      [0.025      0.975]\n",
      "------------------------------------------------------------------------------\n",
      "x1           256.4008     76.523      3.351      0.001     106.406     406.395\n",
      "x2           -14.2742      7.311     -1.953      0.051     -28.604       0.055\n",
      "x3            85.9365      1.898     45.270      0.000      82.216      89.657\n",
      "x4           1.71e+04    648.264     26.379      0.000    1.58e+04    1.84e+04\n",
      "x5          1.106e+04    425.138     26.022      0.000    1.02e+04    1.19e+04\n",
      "x6            -0.2225      0.004    -53.506      0.000      -0.231      -0.214\n",
      "x7           742.0104     16.509     44.946      0.000     709.651     774.370\n",
      "x8           -22.3101      1.816    -12.285      0.000     -25.870     -18.751\n",
      "x9         -4.077e+04    800.484    -50.929      0.000   -4.23e+04   -3.92e+04\n",
      "x10          188.4173     69.394      2.715      0.007      52.397     324.437\n",
      "x11        -1.616e+04    771.090    -20.955      0.000   -1.77e+04   -1.46e+04\n",
      "x12        -4134.1034    713.046     -5.798      0.000   -5531.763   -2736.443\n",
      "x13         2967.5863    685.091      4.332      0.000    1624.723    4310.450\n",
      "==============================================================================\n",
      "Omnibus:                    12434.041   Durbin-Watson:                   1.769\n",
      "Prob(Omnibus):                  0.000   Jarque-Bera (JB):          1044035.554\n",
      "Skew:                           3.556   Prob(JB):                         0.00\n",
      "Kurtosis:                      43.534   Cond. No.                     4.72e+05\n",
      "==============================================================================\n",
      "\n",
      "Warnings:\n",
      "[1] Standard Errors assume that the covariance matrix of the errors is correctly specified.\n",
      "[2] The condition number is large, 4.72e+05. This might indicate that there are\n",
      "strong multicollinearity or other numerical problems.\n",
      "          Fiyat   Yil        Km  Beygir    CC  Garanti  Takas  Vites_0  \\\n",
      "0      240000.0  2014  120000.0     218  1995        0      0        0   \n",
      "1      274900.0  2014   86000.0     218  1995        0      0        0   \n",
      "2      219750.0  2016   59000.0     170  1592        0      1        0   \n",
      "3      162500.0  2012  190000.0     184  1995        1      0        0   \n",
      "4       99950.0  2011  181499.0     184  1995        0      0        0   \n",
      "5      184500.0  2014  104000.0     170  1592        1      1        0   \n",
      "7      192000.0  2016   87000.0     170  1598        0      0        0   \n",
      "8      109000.0  2011  175000.0     184  1995        0      0        0   \n",
      "9      179999.0  2014   77000.0     170  1592        0      0        0   \n",
      "10     217000.0  2016   43000.0     170  1598        0      0        0   \n",
      "11     144000.0  2014  111100.0     136  1598        0      0        0   \n",
      "12     135900.0  2015   90000.0     136  1499        0      0        0   \n",
      "13     132500.0  2012  165000.0     184  1995        1      0        0   \n",
      "14     290000.0  2015  134000.0     190  1995        0      0        0   \n",
      "15     246900.0  2014  106000.0     190  1995        1      0        0   \n",
      "16     214750.0  2015   63000.0     170  1592        0      1        0   \n",
      "17     200000.0  2012  120000.0     184  1997        1      0        0   \n",
      "18     165000.0  2014  140000.0     184  1995        0      0        0   \n",
      "19     193000.0  2011  164000.0     184  1995        1      0        0   \n",
      "20     248750.0  2013   88000.0     184  1995        0      0        0   \n",
      "21     262500.0  2017   63000.0     150  1995        0      0        0   \n",
      "22     225000.0  2015   66000.0     136  1499        0      1        0   \n",
      "23     365000.0  2018    2000.0     190  1995        0      0        0   \n",
      "24     309900.0  2016  151000.0     218  1995        0      0        0   \n",
      "25     285000.0  2014  132000.0     184  1995        1      1        0   \n",
      "26     159000.0  2011   84200.0     204  2497        1      0        0   \n",
      "27     210000.0  2017   64000.0     150  1995        0      0        0   \n",
      "28     285000.0  2003  139000.0     326  3001        1      1        1   \n",
      "29     175900.0  2016   79000.0     170  1598        0      0        0   \n",
      "30     165900.0  2011  110000.0     184  1995        1      0        0   \n",
      "...         ...   ...       ...     ...   ...      ...    ...      ...   \n",
      "14829  128750.0  2016   40000.0     110  1598        0      1        0   \n",
      "14830   16000.0  1995  200000.0      55  1289        0      1        1   \n",
      "14831   13500.0  1994  218000.0      57  1289        1      0        1   \n",
      "14832   10000.0  1993  222000.0      57  1289        0      0        1   \n",
      "14833    8900.0  1993  260000.0      54  1289        1      0        1   \n",
      "14834   70000.0  2016   87000.0      90  1422        1      0        0   \n",
      "14835   81500.0  2015   75400.0      90  1422        0      1        1   \n",
      "14836   52000.0  2012  104000.0      60   999        1      1        0   \n",
      "14837    6000.0  1994  210000.0      57  1289        1      0        1   \n",
      "14838  182500.0  2017   50000.0     120  1598        0      0        0   \n",
      "14839   68000.0  2012   28000.0      85  1390        1      0        1   \n",
      "14840   64000.0  2011  228500.0     105  1598        0      0        0   \n",
      "14841  140000.0  2017   78500.0     115  1598        1      1        0   \n",
      "14842    8750.0  1993  230000.0      51  1301        1      1        1   \n",
      "14843   89500.0  2014   46750.0     105  1598        0      0        0   \n",
      "14844  111750.0  2016  101000.0     110  1598        1      0        0   \n",
      "14845   12000.0  1993  171000.0      57  1289        1      0        1   \n",
      "14846   57000.0  2010  260000.0     122  1390        1      1        1   \n",
      "14847   85500.0  2013  103262.0     105  1598        1      1        0   \n",
      "14848  115000.0  2015  115000.0     110  1598        1      0        0   \n",
      "14849   83500.0  2015  140000.0     110  1598        1      1        1   \n",
      "14850   22000.0  2001  130000.0      55  1289        1      0        1   \n",
      "14851   84500.0  2016  129000.0      90  1422        1      0        0   \n",
      "14852  145000.0  2016   88000.0     190  1968        1      1        0   \n",
      "14853   13000.0  1994  173000.0      57  1289        1      1        1   \n",
      "14854  117000.0  2016   56000.0     125  1395        1      0        1   \n",
      "14855   10450.0  1995  115500.0      55  1289        1      0        1   \n",
      "14856   11750.0  1993  135000.0      57  1289        1      0        1   \n",
      "14857   83000.0  2016   29000.0     110  1197        1      1        0   \n",
      "14858   95750.0  2016  110000.0     110  1598        0      0        0   \n",
      "\n",
      "       Vites_1  Vites_2    ...     Renk_10  Renk_11  Renk_12  Renk_13  \\\n",
      "0            0        1    ...           0        0        0        0   \n",
      "1            0        1    ...           0        0        0        0   \n",
      "2            0        1    ...           0        0        0        0   \n",
      "3            0        1    ...           0        0        0        0   \n",
      "4            1        0    ...           0        0        0        0   \n",
      "5            0        1    ...           0        0        0        1   \n",
      "7            0        1    ...           0        0        0        0   \n",
      "8            1        0    ...           0        0        0        0   \n",
      "9            0        1    ...           0        0        0        0   \n",
      "10           0        1    ...           0        0        0        0   \n",
      "11           0        1    ...           0        0        0        0   \n",
      "12           0        1    ...           0        0        0        1   \n",
      "13           0        1    ...           0        0        0        0   \n",
      "14           0        1    ...           0        0        0        0   \n",
      "15           0        1    ...           0        0        0        0   \n",
      "16           0        1    ...           0        0        0        1   \n",
      "17           0        1    ...           0        0        0        0   \n",
      "18           0        1    ...           0        0        0        0   \n",
      "19           0        1    ...           0        0        0        0   \n",
      "20           1        0    ...           0        0        0        0   \n",
      "21           1        0    ...           0        0        0        1   \n",
      "22           0        1    ...           0        0        0        0   \n",
      "23           1        0    ...           0        0        0        0   \n",
      "24           0        1    ...           0        0        0        0   \n",
      "25           0        1    ...           0        0        0        0   \n",
      "26           0        1    ...           0        0        0        0   \n",
      "27           1        0    ...           0        0        0        1   \n",
      "28           0        0    ...           0        0        1        0   \n",
      "29           0        1    ...           0        0        0        1   \n",
      "30           0        1    ...           0        0        0        0   \n",
      "...        ...      ...    ...         ...      ...      ...      ...   \n",
      "14829        0        1    ...           0        0        0        0   \n",
      "14830        0        0    ...           0        0        0        0   \n",
      "14831        0        0    ...           0        0        0        0   \n",
      "14832        0        0    ...           0        0        0        0   \n",
      "14833        0        0    ...           0        0        0        0   \n",
      "14834        0        1    ...           0        0        0        0   \n",
      "14835        0        0    ...           0        0        0        0   \n",
      "14836        0        1    ...           0        0        0        0   \n",
      "14837        0        0    ...           0        0        0        0   \n",
      "14838        0        1    ...           0        0        0        1   \n",
      "14839        0        0    ...           0        0        0        0   \n",
      "14840        0        1    ...           0        0        0        0   \n",
      "14841        0        1    ...           0        0        0        0   \n",
      "14842        0        0    ...           0        0        0        0   \n",
      "14843        0        1    ...           0        0        0        0   \n",
      "14844        0        1    ...           0        0        0        1   \n",
      "14845        0        0    ...           1        0        0        0   \n",
      "14846        0        0    ...           0        0        0        1   \n",
      "14847        0        1    ...           0        0        0        0   \n",
      "14848        0        1    ...           0        0        0        0   \n",
      "14849        0        0    ...           0        0        0        0   \n",
      "14850        0        0    ...           0        0        0        0   \n",
      "14851        0        1    ...           0        0        0        0   \n",
      "14852        0        1    ...           0        0        0        0   \n",
      "14853        0        0    ...           0        0        0        0   \n",
      "14854        0        0    ...           0        0        0        0   \n",
      "14855        0        0    ...           0        0        0        0   \n",
      "14856        0        0    ...           0        0        0        0   \n",
      "14857        0        1    ...           0        0        0        0   \n",
      "14858        0        1    ...           0        0        0        0   \n",
      "\n",
      "       Renk_14  Renk_15  Renk_16  Renk_17  Kimden_0  Kimden_1  \n",
      "0            0        0        0        0         1         0  \n",
      "1            0        0        0        0         1         0  \n",
      "2            0        0        0        0         0         1  \n",
      "3            0        0        0        0         1         0  \n",
      "4            0        0        0        0         1         0  \n",
      "5            0        0        0        0         0         1  \n",
      "7            0        0        0        0         0         1  \n",
      "8            0        0        0        0         1         0  \n",
      "9            0        0        0        0         1         0  \n",
      "10           0        0        0        0         0         1  \n",
      "11           0        0        0        0         1         0  \n",
      "12           0        0        0        0         1         0  \n",
      "13           0        0        0        0         1         0  \n",
      "14           0        0        0        0         0         1  \n",
      "15           0        0        0        0         1         0  \n",
      "16           0        0        0        0         0         1  \n",
      "17           0        0        0        0         1         0  \n",
      "18           0        0        0        0         1         0  \n",
      "19           0        0        0        0         1         0  \n",
      "20           0        0        0        0         1         0  \n",
      "21           0        0        0        0         1         0  \n",
      "22           0        0        0        0         1         0  \n",
      "23           0        0        0        0         1         0  \n",
      "24           0        0        0        0         1         0  \n",
      "25           0        0        0        0         0         1  \n",
      "26           0        0        0        0         1         0  \n",
      "27           0        0        0        0         1         0  \n",
      "28           0        0        0        0         0         1  \n",
      "29           0        0        0        0         1         0  \n",
      "30           0        0        0        0         1         0  \n",
      "...        ...      ...      ...      ...       ...       ...  \n",
      "14829        0        0        0        0         0         1  \n",
      "14830        0        0        0        0         0         1  \n",
      "14831        0        0        0        0         0         1  \n",
      "14832        0        0        0        0         0         1  \n",
      "14833        0        0        0        0         0         1  \n",
      "14834        0        0        0        0         0         1  \n",
      "14835        0        0        0        0         0         1  \n",
      "14836        0        0        0        0         1         0  \n",
      "14837        0        0        1        0         0         1  \n",
      "14838        0        0        0        0         0         1  \n",
      "14839        0        0        0        0         0         1  \n",
      "14840        0        0        0        0         0         1  \n",
      "14841        0        0        0        0         0         1  \n",
      "14842        0        0        0        0         0         1  \n",
      "14843        0        0        0        0         1         0  \n",
      "14844        0        0        0        0         1         0  \n",
      "14845        0        0        0        0         0         1  \n",
      "14846        0        0        0        0         0         1  \n",
      "14847        0        0        0        0         0         1  \n",
      "14848        0        0        0        0         0         1  \n",
      "14849        0        0        0        0         0         1  \n",
      "14850        0        0        0        0         0         1  \n",
      "14851        0        0        0        0         0         1  \n",
      "14852        0        0        0        0         0         1  \n",
      "14853        0        0        0        0         0         1  \n",
      "14854        0        0        0        0         0         1  \n",
      "14855        0        0        0        0         0         1  \n",
      "14856        0        0        0        0         1         0  \n",
      "14857        0        0        0        0         0         1  \n",
      "14858        0        0        0        0         1         0  \n",
      "\n",
      "[14795 rows x 242 columns]\n"
     ]
    }
   ],
   "source": [
    "from sklearn.preprocessing import LabelEncoder\n",
    "le = LabelEncoder()\n",
    "new_data = df\n",
    "enkod = [\"Vites\",\"Marka\",\"Cekis\",\"KasaTipi\",\"Yakit\",\"Seri\",\"Renk\",\"Garanti\",\"Kimden\",\"Takas\"]\n",
    "for i in enkod:\n",
    "    df[i] = le.fit_transform(df[i])\n",
    "\n",
    "import statsmodels.formula.api as sm\n",
    "Xl = df.iloc[:,[1,2,3,4,5,6,8,9,10,11,12,13,14]].values\n",
    "yl= df.iloc[:,0:1].values\n",
    "r = sm.OLS(endog=yl,   exog =Xl).fit()\n",
    "print(r.summary())\n",
    "\n",
    "new_data = pd.get_dummies(new_data, columns=[\"Vites\",\"Marka\",\"Cekis\",\"KasaTipi\",\"Yakit\",\"Seri\",\"Renk\",\"Kimden\"])\n",
    "print(new_data)\n",
    "discpt=new_data.describe()"
   ]
  },
  {
   "cell_type": "code",
   "execution_count": 13,
   "metadata": {},
   "outputs": [],
   "source": [
    "x= new_data.iloc[:,1:].values\n",
    "y = new_data.iloc[:,0:1].values\n",
    "\n",
    "from sklearn.model_selection import train_test_split\n",
    "x_train, x_test,y_train,y_test = train_test_split(x,y,test_size=0.33, random_state=0)"
   ]
  },
  {
   "cell_type": "code",
   "execution_count": 14,
   "metadata": {},
   "outputs": [
    {
     "name": "stdout",
     "output_type": "stream",
     "text": [
      "Linear Regression\n",
      "[[ 38239.74429738]\n",
      " [220832.35566858]\n",
      " [ 55617.28111683]\n",
      " ...\n",
      " [106229.93484519]\n",
      " [ 69694.65915047]\n",
      " [107169.74810125]]\n",
      "Linear Regression r2\n",
      "0.8141847128126876\n"
     ]
    }
   ],
   "source": [
    "from sklearn.linear_model import LinearRegression\n",
    "lin_reg = LinearRegression()\n",
    "lin_reg.fit(x_train,y_train)\n",
    "print(\"Linear Regression\")\n",
    "print(lin_reg.predict(x_test))\n",
    "print(\"Linear Regression r2\")\n",
    "print(r2_score(y_test,lin_reg.predict(x_test)))\n",
    "\n",
    "op = lin_reg.predict(x_test)"
   ]
  },
  {
   "cell_type": "code",
   "execution_count": null,
   "metadata": {},
   "outputs": [
    {
     "name": "stdout",
     "output_type": "stream",
     "text": [
      "[[1.000e+00 2.000e+03 2.010e+05 ... 1.000e+00 0.000e+00 0.000e+00]\n",
      " [1.000e+00 2.008e+03 1.800e+04 ... 1.000e+00 0.000e+00 0.000e+00]\n",
      " [1.000e+00 2.017e+03 4.100e+04 ... 0.000e+00 0.000e+00 1.000e+00]\n",
      " ...\n",
      " [1.000e+00 1.998e+03 2.390e+05 ... 0.000e+00 0.000e+00 1.000e+00]\n",
      " [1.000e+00 2.008e+03 1.460e+05 ... 0.000e+00 0.000e+00 1.000e+00]\n",
      " [1.000e+00 2.010e+03 3.074e+05 ... 1.000e+00 0.000e+00 0.000e+00]]\n"
     ]
    }
   ],
   "source": [
    "from sklearn.preprocessing import PolynomialFeatures\n",
    "poly_reg = PolynomialFeatures(degree = 2)\n",
    "x_poly = poly_reg.fit_transform(x_train)\n",
    "print(x_poly)\n",
    "lin_reg2 = LinearRegression()\n",
    "lin_reg2.fit(x_poly,y_train)\n",
    "print(lin_reg2.predict(poly_reg.fit_transform(x_test)))\n",
    "print(\"R2 Score Polynomial degree 4\")\n",
    "print(r2_score(y_test,lin_reg2.predict(poly_reg.fit_transform(x_test))))"
   ]
  },
  {
   "cell_type": "code",
   "execution_count": 15,
   "metadata": {},
   "outputs": [
    {
     "name": "stderr",
     "output_type": "stream",
     "text": [
      "C:\\Users\\DKRKLK\\Anaconda3\\lib\\site-packages\\sklearn\\utils\\validation.py:761: DataConversionWarning: A column-vector y was passed when a 1d array was expected. Please change the shape of y to (n_samples, ), for example using ravel().\n",
      "  y = column_or_1d(y, warn=True)\n",
      "C:\\Users\\DKRKLK\\Anaconda3\\lib\\site-packages\\sklearn\\svm\\base.py:196: FutureWarning: The default value of gamma will change from 'auto' to 'scale' in version 0.22 to account better for unscaled features. Set gamma explicitly to 'auto' or 'scale' to avoid this warning.\n",
      "  \"avoid this warning.\", FutureWarning)\n"
     ]
    },
    {
     "name": "stdout",
     "output_type": "stream",
     "text": [
      "SVR\n",
      "[-0.22449759 -0.22449759 -0.22449759 ... -0.22449759 -0.22449759\n",
      " -0.22449759]\n",
      "R2 SVR\n",
      "-1.3672650537025612\n"
     ]
    }
   ],
   "source": [
    "from sklearn.preprocessing import StandardScaler\n",
    "sc1 = StandardScaler()\n",
    "x_olcekli = sc1.fit_transform(x_train)\n",
    "sc2 = StandardScaler()\n",
    "y_olcekli = sc2.fit_transform(y_train)\n",
    "\n",
    "from sklearn.svm import SVR\n",
    "svr_reg = SVR(kernel = 'rbf')\n",
    "svr_reg.fit(x_olcekli,y_olcekli)\n",
    "print(\"SVR\")\n",
    "print(svr_reg.predict(x_test))\n",
    "print(\"R2 SVR\")\n",
    "print(r2_score(y_test,svr_reg.predict(x_test)))"
   ]
  },
  {
   "cell_type": "code",
   "execution_count": 16,
   "metadata": {},
   "outputs": [
    {
     "name": "stdout",
     "output_type": "stream",
     "text": [
      "Decision Tree\n",
      "[ 38250. 168000.  40750. ... 113000.  65000. 125000.]\n",
      "Decision Tree R2 degeri:\n",
      "0.8863069523994557\n"
     ]
    }
   ],
   "source": [
    "from sklearn.tree import DecisionTreeRegressor\n",
    "r_dt = DecisionTreeRegressor(random_state=0)\n",
    "r_dt.fit(x_train,y_train)\n",
    "Z = x_test + 0.5\n",
    "K = x_test - 0.4\n",
    "print(\"Decision Tree\")\n",
    "print(r_dt.predict(x_test))\n",
    "print(\"Decision Tree R2 degeri:\")\n",
    "print(r2_score(y_test, r_dt.predict(x_test)))\n",
    "dh = r_dt.predict(x_test)"
   ]
  },
  {
   "cell_type": "code",
   "execution_count": 17,
   "metadata": {},
   "outputs": [
    {
     "name": "stderr",
     "output_type": "stream",
     "text": [
      "C:\\Users\\DKRKLK\\Anaconda3\\lib\\site-packages\\ipykernel_launcher.py:3: DataConversionWarning: A column-vector y was passed when a 1d array was expected. Please change the shape of y to (n_samples,), for example using ravel().\n",
      "  This is separate from the ipykernel package so we can avoid doing imports until\n"
     ]
    },
    {
     "name": "stdout",
     "output_type": "stream",
     "text": [
      "Random Forest\n",
      "[ 38550.  219675.   50749.7 ... 124140.   69530.  125000. ]\n",
      "Random Forest R2 degeri:\n",
      "0.9340173459658095\n",
      "0.9340173459658095\n",
      "0.9340634884125263\n"
     ]
    }
   ],
   "source": [
    "from sklearn.ensemble import RandomForestRegressor\n",
    "rf_reg = RandomForestRegressor(n_estimators = 10, random_state=0)\n",
    "rf_reg.fit(x_train,y_train)\n",
    "print(\"Random Forest\")\n",
    "print(rf_reg.predict(x_test))\n",
    "print(\"Random Forest R2 degeri:\")\n",
    "print(r2_score(y_test, rf_reg.predict(x_test)) )\n",
    "print(r2_score(y_test, rf_reg.predict(K)) )\n",
    "print(r2_score(y_test, rf_reg.predict(Z)) )\n",
    "rf =  rf_reg.predict(x_test)\n"
   ]
  },
  {
   "cell_type": "code",
   "execution_count": 27,
   "metadata": {},
   "outputs": [
    {
     "name": "stdout",
     "output_type": "stream",
     "text": [
      "17068.962150001047\n"
     ]
    }
   ],
   "source": [
    "from sklearn.metrics import mean_squared_error\n",
    "from math import sqrt\n",
    "\n",
    "rms = sqrt(mean_squared_error(y_test, rf))\n",
    "print(rms)\n"
   ]
  },
  {
   "cell_type": "code",
   "execution_count": 19,
   "metadata": {},
   "outputs": [],
   "source": [
    "dataset = pd.DataFrame({'y_test': y_test[:,0], 'rf': rf[:,]})"
   ]
  },
  {
   "cell_type": "code",
   "execution_count": 20,
   "metadata": {},
   "outputs": [
    {
     "data": {
      "text/plain": [
       "array([ 38250., 167500.,  55000., ..., 123000.,  61500., 123000.])"
      ]
     },
     "execution_count": 20,
     "metadata": {},
     "output_type": "execute_result"
    }
   ],
   "source": [
    "y_test[:,0]"
   ]
  },
  {
   "cell_type": "code",
   "execution_count": 21,
   "metadata": {},
   "outputs": [],
   "source": [
    "xtrain = pd.DataFrame({'y_test': y_test[:,0], 'op': op[:,0]})\n",
    "ytrain = pd.DataFrame({'y_test': y_test[:,0], 'op': op[:,0]})"
   ]
  },
  {
   "cell_type": "code",
   "execution_count": 22,
   "metadata": {},
   "outputs": [
    {
     "name": "stdout",
     "output_type": "stream",
     "text": [
      "        y_test             rf\n",
      "0      38250.0   38550.000000\n",
      "1     167500.0  219675.000000\n",
      "2      55000.0   50749.700000\n",
      "3      68500.0   60085.000000\n",
      "4      47000.0   42862.500000\n",
      "5      39950.0   18549.800000\n",
      "6      43500.0   43740.000000\n",
      "7      41000.0   40605.000000\n",
      "8      85000.0   73675.000000\n",
      "9      73500.0   63500.000000\n",
      "10    104990.0  101080.000000\n",
      "11     75500.0   74925.000000\n",
      "12     62500.0   60015.000000\n",
      "13    125500.0  149660.000000\n",
      "14    268000.0  282495.000000\n",
      "15     54000.0   51850.000000\n",
      "16     65000.0   51570.000000\n",
      "17     50000.0   44855.000000\n",
      "18     90000.0   75080.000000\n",
      "19     47000.0   46990.000000\n",
      "20     53000.0   53530.000000\n",
      "21    120000.0  124650.000000\n",
      "22     45750.0   48395.000000\n",
      "23     17500.0   18530.000000\n",
      "24     59750.0   55215.000000\n",
      "25     54000.0   53780.000000\n",
      "26    121500.0  121725.000000\n",
      "27     17000.0   19080.000000\n",
      "28    116750.0  114185.000000\n",
      "29     35999.0   34524.800000\n",
      "...        ...            ...\n",
      "4853   72000.0   83925.000000\n",
      "4854  121500.0  135375.000000\n",
      "4855   62250.0   64935.000000\n",
      "4856   29500.0   20590.000000\n",
      "4857  105000.0   90310.000000\n",
      "4858  122000.0  108075.000000\n",
      "4859   73500.0   65647.500000\n",
      "4860   30000.0   30150.000000\n",
      "4861   81000.0   76890.000000\n",
      "4862   60000.0   60000.000000\n",
      "4863   90500.0   88300.000000\n",
      "4864   27500.0   29015.000000\n",
      "4865   35250.0   44450.000000\n",
      "4866   79500.0   95600.000000\n",
      "4867   62500.0   94158.333333\n",
      "4868   34000.0   41390.000000\n",
      "4869  145000.0  208175.000000\n",
      "4870   33950.0   42460.000000\n",
      "4871   11500.0   15540.000000\n",
      "4872   92900.0   92075.000000\n",
      "4873   18000.0   18775.000000\n",
      "4874   63500.0   68500.000000\n",
      "4875   28500.0   33275.000000\n",
      "4876   97900.0  118500.000000\n",
      "4877  189000.0  173675.000000\n",
      "4878   98000.0   91940.000000\n",
      "4879   15250.0   19575.000000\n",
      "4880  123000.0  124140.000000\n",
      "4881   61500.0   69530.000000\n",
      "4882  123000.0  125000.000000\n",
      "\n",
      "[4883 rows x 2 columns]\n"
     ]
    }
   ],
   "source": [
    "print(dataset)"
   ]
  },
  {
   "cell_type": "code",
   "execution_count": 24,
   "metadata": {},
   "outputs": [],
   "source": [
    "import seaborn as sns"
   ]
  },
  {
   "cell_type": "code",
   "execution_count": 25,
   "metadata": {},
   "outputs": [
    {
     "name": "stderr",
     "output_type": "stream",
     "text": [
      "C:\\Users\\DKRKLK\\Anaconda3\\lib\\site-packages\\scipy\\stats\\stats.py:1713: FutureWarning: Using a non-tuple sequence for multidimensional indexing is deprecated; use `arr[tuple(seq)]` instead of `arr[seq]`. In the future this will be interpreted as an array index, `arr[np.array(seq)]`, which will result either in an error or a different result.\n",
      "  return np.add.reduce(sorted[indexer] * weights, axis=axis) / sumval\n"
     ]
    },
    {
     "data": {
      "text/plain": [
       "<seaborn.axisgrid.JointGrid at 0x2344ca09b70>"
      ]
     },
     "execution_count": 25,
     "metadata": {},
     "output_type": "execute_result"
    },
    {
     "data": {
      "image/png": "[encoded data removed]",
      "text/plain": [
       "<Figure size 432x432 with 3 Axes>"
      ]
     },
     "metadata": {
      "needs_background": "light"
     },
     "output_type": "display_data"
    }
   ],
   "source": [
    "sns.jointplot(x=\"rf\",y=\"y_test\",data=dataset,color='c')"
   ]
  },
  {
   "cell_type": "code",
   "execution_count": 26,
   "metadata": {},
   "outputs": [
    {
     "data": {
      "text/plain": [
       "<seaborn.axisgrid.FacetGrid at 0x234528b15c0>"
      ]
     },
     "execution_count": 26,
     "metadata": {},
     "output_type": "execute_result"
    },
    {
     "data": {
      "image/png": "[encoded data removed]",
      "text/plain": [
       "<Figure size 360x360 with 1 Axes>"
      ]
     },
     "metadata": {
      "needs_background": "light"
     },
     "output_type": "display_data"
    }
   ],
   "source": [
    "sns.lmplot(x=\"rf\",y=\"y_test\",data=dataset)"
   ]
  }
 ],
 "metadata": {
  "kernelspec": {
   "display_name": "Python 3",
   "language": "python",
   "name": "python3"
  },
  "language_info": {
   "codemirror_mode": {
    "name": "ipython",
    "version": 3
   },
   "file_extension": ".py",
   "mimetype": "text/x-python",
   "name": "python",
   "nbconvert_exporter": "python",
   "pygments_lexer": "ipython3",
   "version": "3.7.3"
  }
 },
 "nbformat": 4,
 "nbformat_minor": 2
}
